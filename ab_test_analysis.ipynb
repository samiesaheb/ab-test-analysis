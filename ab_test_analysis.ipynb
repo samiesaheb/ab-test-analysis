{
 "cells": [
  {
   "cell_type": "markdown",
   "id": "1253508b",
   "metadata": {},
   "source": [
    "# 📊 A/B Test Analysis – Conversion & Retention\n",
    "\n",
    "This notebook analyzes a simulated A/B test for a product feature launch using conversion and retention metrics. It includes:\n",
    "- Group-wise rate comparisons\n",
    "- Statistical significance tests (p-values, confidence intervals)\n",
    "- Visualizations of treatment lift\n"
   ]
  },
  {
   "cell_type": "code",
   "execution_count": 1,
   "id": "3e5558a3-b0ce-4a48-adda-a194d43a9f3d",
   "metadata": {},
   "outputs": [
    {
     "name": "stdout",
     "output_type": "stream",
     "text": [
      "/Library/Frameworks/Python.framework/Versions/3.13/bin/python3.13\n"
     ]
    }
   ],
   "source": [
    "import sys\n",
    "print(sys.executable)"
   ]
  },
  {
   "cell_type": "code",
   "execution_count": 2,
   "id": "3c3ba50a-4bc7-4a56-872d-f9ae7414acad",
   "metadata": {},
   "outputs": [
    {
     "name": "stdout",
     "output_type": "stream",
     "text": [
      "Collecting matplotlib\n",
      "  Using cached matplotlib-3.10.3-cp313-cp313-macosx_11_0_arm64.whl.metadata (11 kB)\n",
      "Collecting seaborn\n",
      "  Using cached seaborn-0.13.2-py3-none-any.whl.metadata (5.4 kB)\n",
      "Collecting statsmodels\n",
      "  Using cached statsmodels-0.14.4-cp313-cp313-macosx_11_0_arm64.whl.metadata (9.2 kB)\n",
      "Collecting contourpy>=1.0.1 (from matplotlib)\n",
      "  Using cached contourpy-1.3.2-cp313-cp313-macosx_11_0_arm64.whl.metadata (5.5 kB)\n",
      "Collecting cycler>=0.10 (from matplotlib)\n",
      "  Using cached cycler-0.12.1-py3-none-any.whl.metadata (3.8 kB)\n",
      "Collecting fonttools>=4.22.0 (from matplotlib)\n",
      "  Using cached fonttools-4.58.4-cp313-cp313-macosx_10_13_universal2.whl.metadata (106 kB)\n",
      "Collecting kiwisolver>=1.3.1 (from matplotlib)\n",
      "  Using cached kiwisolver-1.4.8-cp313-cp313-macosx_11_0_arm64.whl.metadata (6.2 kB)\n",
      "Requirement already satisfied: numpy>=1.23 in /Library/Frameworks/Python.framework/Versions/3.13/lib/python3.13/site-packages (from matplotlib) (2.1.3)\n",
      "Requirement already satisfied: packaging>=20.0 in /Library/Frameworks/Python.framework/Versions/3.13/lib/python3.13/site-packages (from matplotlib) (24.2)\n",
      "Requirement already satisfied: pillow>=8 in /Library/Frameworks/Python.framework/Versions/3.13/lib/python3.13/site-packages (from matplotlib) (11.2.1)\n",
      "Collecting pyparsing>=2.3.1 (from matplotlib)\n",
      "  Using cached pyparsing-3.2.3-py3-none-any.whl.metadata (5.0 kB)\n",
      "Requirement already satisfied: python-dateutil>=2.7 in /Library/Frameworks/Python.framework/Versions/3.13/lib/python3.13/site-packages (from matplotlib) (2.9.0.post0)\n",
      "Requirement already satisfied: pandas>=1.2 in /Library/Frameworks/Python.framework/Versions/3.13/lib/python3.13/site-packages (from seaborn) (2.2.3)\n",
      "Requirement already satisfied: scipy!=1.9.2,>=1.8 in /Library/Frameworks/Python.framework/Versions/3.13/lib/python3.13/site-packages (from statsmodels) (1.15.3)\n",
      "Collecting patsy>=0.5.6 (from statsmodels)\n",
      "  Using cached patsy-1.0.1-py2.py3-none-any.whl.metadata (3.3 kB)\n",
      "Requirement already satisfied: pytz>=2020.1 in /Library/Frameworks/Python.framework/Versions/3.13/lib/python3.13/site-packages (from pandas>=1.2->seaborn) (2024.2)\n",
      "Requirement already satisfied: tzdata>=2022.7 in /Library/Frameworks/Python.framework/Versions/3.13/lib/python3.13/site-packages (from pandas>=1.2->seaborn) (2024.2)\n",
      "Requirement already satisfied: six>=1.5 in /Library/Frameworks/Python.framework/Versions/3.13/lib/python3.13/site-packages (from python-dateutil>=2.7->matplotlib) (1.16.0)\n",
      "Using cached matplotlib-3.10.3-cp313-cp313-macosx_11_0_arm64.whl (8.1 MB)\n",
      "Using cached seaborn-0.13.2-py3-none-any.whl (294 kB)\n",
      "Using cached statsmodels-0.14.4-cp313-cp313-macosx_11_0_arm64.whl (9.9 MB)\n",
      "Using cached contourpy-1.3.2-cp313-cp313-macosx_11_0_arm64.whl (255 kB)\n",
      "Using cached cycler-0.12.1-py3-none-any.whl (8.3 kB)\n",
      "Using cached fonttools-4.58.4-cp313-cp313-macosx_10_13_universal2.whl (2.7 MB)\n",
      "Using cached kiwisolver-1.4.8-cp313-cp313-macosx_11_0_arm64.whl (65 kB)\n",
      "Using cached patsy-1.0.1-py2.py3-none-any.whl (232 kB)\n",
      "Using cached pyparsing-3.2.3-py3-none-any.whl (111 kB)\n",
      "Installing collected packages: pyparsing, patsy, kiwisolver, fonttools, cycler, contourpy, matplotlib, statsmodels, seaborn\n",
      "\u001b[2K   \u001b[90m━━━━━━━━━━━━━━━━━━━━━━━━━━━━━━━━━━━━━━━━\u001b[0m \u001b[32m9/9\u001b[0m [seaborn]m8/9\u001b[0m [seaborn]els]\n",
      "\u001b[1A\u001b[2KSuccessfully installed contourpy-1.3.2 cycler-0.12.1 fonttools-4.58.4 kiwisolver-1.4.8 matplotlib-3.10.3 patsy-1.0.1 pyparsing-3.2.3 seaborn-0.13.2 statsmodels-0.14.4\n"
     ]
    }
   ],
   "source": [
    "!/Library/Frameworks/Python.framework/Versions/3.13/bin/python3.13 -m pip install matplotlib seaborn statsmodels"
   ]
  },
  {
   "cell_type": "code",
   "execution_count": null,
   "id": "a2594157-46e5-46f9-872d-13b04f45b0eb",
   "metadata": {},
   "outputs": [],
   "source": [
    "!pip install matplotlib seaborn statsmodels"
   ]
  },
  {
   "cell_type": "code",
   "execution_count": 3,
   "id": "d266a786",
   "metadata": {},
   "outputs": [
    {
     "data": {
      "text/html": [
       "<div>\n",
       "<style scoped>\n",
       "    .dataframe tbody tr th:only-of-type {\n",
       "        vertical-align: middle;\n",
       "    }\n",
       "\n",
       "    .dataframe tbody tr th {\n",
       "        vertical-align: top;\n",
       "    }\n",
       "\n",
       "    .dataframe thead th {\n",
       "        text-align: right;\n",
       "    }\n",
       "</style>\n",
       "<table border=\"1\" class=\"dataframe\">\n",
       "  <thead>\n",
       "    <tr style=\"text-align: right;\">\n",
       "      <th></th>\n",
       "      <th>user_id</th>\n",
       "      <th>group</th>\n",
       "      <th>converted</th>\n",
       "      <th>retained</th>\n",
       "      <th>timestamp</th>\n",
       "    </tr>\n",
       "  </thead>\n",
       "  <tbody>\n",
       "    <tr>\n",
       "      <th>0</th>\n",
       "      <td>1</td>\n",
       "      <td>control</td>\n",
       "      <td>0</td>\n",
       "      <td>1</td>\n",
       "      <td>2024-12-01 00:00:00</td>\n",
       "    </tr>\n",
       "    <tr>\n",
       "      <th>1</th>\n",
       "      <td>2</td>\n",
       "      <td>treatment</td>\n",
       "      <td>1</td>\n",
       "      <td>0</td>\n",
       "      <td>2024-12-01 01:00:00</td>\n",
       "    </tr>\n",
       "    <tr>\n",
       "      <th>2</th>\n",
       "      <td>3</td>\n",
       "      <td>control</td>\n",
       "      <td>0</td>\n",
       "      <td>0</td>\n",
       "      <td>2024-12-01 02:00:00</td>\n",
       "    </tr>\n",
       "    <tr>\n",
       "      <th>3</th>\n",
       "      <td>4</td>\n",
       "      <td>control</td>\n",
       "      <td>0</td>\n",
       "      <td>1</td>\n",
       "      <td>2024-12-01 03:00:00</td>\n",
       "    </tr>\n",
       "    <tr>\n",
       "      <th>4</th>\n",
       "      <td>5</td>\n",
       "      <td>control</td>\n",
       "      <td>1</td>\n",
       "      <td>1</td>\n",
       "      <td>2024-12-01 04:00:00</td>\n",
       "    </tr>\n",
       "  </tbody>\n",
       "</table>\n",
       "</div>"
      ],
      "text/plain": [
       "   user_id      group  converted  retained            timestamp\n",
       "0        1    control          0         1  2024-12-01 00:00:00\n",
       "1        2  treatment          1         0  2024-12-01 01:00:00\n",
       "2        3    control          0         0  2024-12-01 02:00:00\n",
       "3        4    control          0         1  2024-12-01 03:00:00\n",
       "4        5    control          1         1  2024-12-01 04:00:00"
      ]
     },
     "execution_count": 3,
     "metadata": {},
     "output_type": "execute_result"
    }
   ],
   "source": [
    "import pandas as pd\n",
    "import numpy as np\n",
    "import matplotlib.pyplot as plt\n",
    "import seaborn as sns\n",
    "from statsmodels.stats.proportion import proportions_ztest, confint_proportions_2indep\n",
    "\n",
    "# Load the dataset\n",
    "df = pd.read_csv(\"ab_test_dataset.csv\")\n",
    "df.head()"
   ]
  },
  {
   "cell_type": "markdown",
   "id": "8dbc2484",
   "metadata": {},
   "source": [
    "## 📈 Group-Level Conversion & Retention Rates"
   ]
  },
  {
   "cell_type": "code",
   "execution_count": 4,
   "id": "38498422",
   "metadata": {},
   "outputs": [
    {
     "data": {
      "text/html": [
       "<div>\n",
       "<style scoped>\n",
       "    .dataframe tbody tr th:only-of-type {\n",
       "        vertical-align: middle;\n",
       "    }\n",
       "\n",
       "    .dataframe tbody tr th {\n",
       "        vertical-align: top;\n",
       "    }\n",
       "\n",
       "    .dataframe thead th {\n",
       "        text-align: right;\n",
       "    }\n",
       "</style>\n",
       "<table border=\"1\" class=\"dataframe\">\n",
       "  <thead>\n",
       "    <tr style=\"text-align: right;\">\n",
       "      <th></th>\n",
       "      <th>group</th>\n",
       "      <th>conversion_rate</th>\n",
       "      <th>retention_rate</th>\n",
       "      <th>users</th>\n",
       "    </tr>\n",
       "  </thead>\n",
       "  <tbody>\n",
       "    <tr>\n",
       "      <th>0</th>\n",
       "      <td>control</td>\n",
       "      <td>0.177551</td>\n",
       "      <td>0.422449</td>\n",
       "      <td>490</td>\n",
       "    </tr>\n",
       "    <tr>\n",
       "      <th>1</th>\n",
       "      <td>treatment</td>\n",
       "      <td>0.225490</td>\n",
       "      <td>0.494118</td>\n",
       "      <td>510</td>\n",
       "    </tr>\n",
       "  </tbody>\n",
       "</table>\n",
       "</div>"
      ],
      "text/plain": [
       "       group  conversion_rate  retention_rate  users\n",
       "0    control         0.177551        0.422449    490\n",
       "1  treatment         0.225490        0.494118    510"
      ]
     },
     "execution_count": 4,
     "metadata": {},
     "output_type": "execute_result"
    }
   ],
   "source": [
    "summary = df.groupby(\"group\").agg(\n",
    "    conversion_rate=(\"converted\", \"mean\"),\n",
    "    retention_rate=(\"retained\", \"mean\"),\n",
    "    users=(\"user_id\", \"count\")\n",
    ").reset_index()\n",
    "summary"
   ]
  },
  {
   "cell_type": "markdown",
   "id": "3b2d72e4",
   "metadata": {},
   "source": [
    "## 📉 Statistical Significance – Z-tests and Confidence Intervals"
   ]
  },
  {
   "cell_type": "code",
   "execution_count": 5,
   "id": "8ea015ee",
   "metadata": {},
   "outputs": [
    {
     "data": {
      "text/html": [
       "<div>\n",
       "<style scoped>\n",
       "    .dataframe tbody tr th:only-of-type {\n",
       "        vertical-align: middle;\n",
       "    }\n",
       "\n",
       "    .dataframe tbody tr th {\n",
       "        vertical-align: top;\n",
       "    }\n",
       "\n",
       "    .dataframe thead th {\n",
       "        text-align: right;\n",
       "    }\n",
       "</style>\n",
       "<table border=\"1\" class=\"dataframe\">\n",
       "  <thead>\n",
       "    <tr style=\"text-align: right;\">\n",
       "      <th></th>\n",
       "      <th>Metric</th>\n",
       "      <th>Control Rate</th>\n",
       "      <th>Treatment Rate</th>\n",
       "      <th>P-Value</th>\n",
       "      <th>95% CI Lower</th>\n",
       "      <th>95% CI Upper</th>\n",
       "    </tr>\n",
       "  </thead>\n",
       "  <tbody>\n",
       "    <tr>\n",
       "      <th>0</th>\n",
       "      <td>Conversion Rate</td>\n",
       "      <td>0.1776</td>\n",
       "      <td>0.2255</td>\n",
       "      <td>0.0591</td>\n",
       "      <td>-0.0975</td>\n",
       "      <td>0.0017</td>\n",
       "    </tr>\n",
       "    <tr>\n",
       "      <th>1</th>\n",
       "      <td>Retention Rate</td>\n",
       "      <td>0.4224</td>\n",
       "      <td>0.4941</td>\n",
       "      <td>0.0230</td>\n",
       "      <td>-0.1333</td>\n",
       "      <td>-0.0101</td>\n",
       "    </tr>\n",
       "  </tbody>\n",
       "</table>\n",
       "</div>"
      ],
      "text/plain": [
       "            Metric  Control Rate  Treatment Rate  P-Value  95% CI Lower  \\\n",
       "0  Conversion Rate        0.1776          0.2255   0.0591       -0.0975   \n",
       "1   Retention Rate        0.4224          0.4941   0.0230       -0.1333   \n",
       "\n",
       "   95% CI Upper  \n",
       "0        0.0017  \n",
       "1       -0.0101  "
      ]
     },
     "execution_count": 5,
     "metadata": {},
     "output_type": "execute_result"
    }
   ],
   "source": [
    "# Conversion test\n",
    "conv_success = df.groupby(\"group\")[\"converted\"].sum()\n",
    "conv_total = df.groupby(\"group\")[\"converted\"].count()\n",
    "zstat_conv, pval_conv = proportions_ztest(count=conv_success, nobs=conv_total)\n",
    "confint_conv = confint_proportions_2indep(conv_success[\"control\"], conv_total[\"control\"],\n",
    "                                          conv_success[\"treatment\"], conv_total[\"treatment\"],\n",
    "                                          method='wald')\n",
    "\n",
    "# Retention test\n",
    "ret_success = df.groupby(\"group\")[\"retained\"].sum()\n",
    "ret_total = df.groupby(\"group\")[\"retained\"].count()\n",
    "zstat_ret, pval_ret = proportions_ztest(count=ret_success, nobs=ret_total)\n",
    "confint_ret = confint_proportions_2indep(ret_success[\"control\"], ret_total[\"control\"],\n",
    "                                         ret_success[\"treatment\"], ret_total[\"treatment\"],\n",
    "                                         method='wald')\n",
    "\n",
    "# Summarize\n",
    "stats_summary = pd.DataFrame({\n",
    "    \"Metric\": [\"Conversion Rate\", \"Retention Rate\"],\n",
    "    \"Control Rate\": [conv_success[\"control\"]/conv_total[\"control\"],\n",
    "                     ret_success[\"control\"]/ret_total[\"control\"]],\n",
    "    \"Treatment Rate\": [conv_success[\"treatment\"]/conv_total[\"treatment\"],\n",
    "                       ret_success[\"treatment\"]/ret_total[\"treatment\"]],\n",
    "    \"P-Value\": [pval_conv, pval_ret],\n",
    "    \"95% CI Lower\": [confint_conv[0], confint_ret[0]],\n",
    "    \"95% CI Upper\": [confint_conv[1], confint_ret[1]]\n",
    "}).round(4)\n",
    "\n",
    "stats_summary"
   ]
  },
  {
   "cell_type": "markdown",
   "id": "65015b1f",
   "metadata": {},
   "source": [
    "## 📊 Visualize Treatment Rates with 95% Confidence Intervals"
   ]
  },
  {
   "cell_type": "code",
   "execution_count": 6,
   "id": "9856dfe3",
   "metadata": {},
   "outputs": [
    {
     "data": {
      "image/png": "[encoded data removed]",
      "text/plain": [
       "<Figure size 800x500 with 1 Axes>"
      ]
     },
     "metadata": {},
     "output_type": "display_data"
    }
   ],
   "source": [
    "metrics = [\"Conversion Rate\", \"Retention Rate\"]\n",
    "ci_errors_lower = abs(stats_summary[\"Treatment Rate\"] - stats_summary[\"95% CI Lower\"])\n",
    "ci_errors_upper = abs(stats_summary[\"95% CI Upper\"] - stats_summary[\"Treatment Rate\"])\n",
    "error_bars = [ci_errors_lower.values, ci_errors_upper.values]\n",
    "\n",
    "fig, ax = plt.subplots(figsize=(8, 5))\n",
    "ax.bar(metrics, stats_summary[\"Treatment Rate\"], yerr=error_bars, capsize=10,\n",
    "       color=[\"#1f77b4\", \"#2ca02c\"], alpha=0.9)\n",
    "\n",
    "ax.axhline(stats_summary[\"Control Rate\"].iloc[0], linestyle=\"--\", color=\"#1f77b4\", label=\"Control Conversion\")\n",
    "ax.axhline(stats_summary[\"Control Rate\"].iloc[1], linestyle=\"--\", color=\"#2ca02c\", label=\"Control Retention\")\n",
    "\n",
    "for i, val in enumerate(stats_summary[\"Treatment Rate\"]):\n",
    "    ax.text(i, val + 0.01, f\"{val:.2%}\", ha='center', fontsize=10)\n",
    "\n",
    "ax.set_title(\"Treatment Group Rates with 95% Confidence Intervals\")\n",
    "ax.set_ylabel(\"Rate\")\n",
    "ax.set_ylim(0, max(stats_summary[\"Treatment Rate\"]) + 0.1)\n",
    "ax.legend()\n",
    "plt.tight_layout()\n",
    "plt.show()"
   ]
  },
  {
   "cell_type": "code",
   "execution_count": null,
   "id": "4fc4075f-cdd4-476f-a98a-8ff35748ab78",
   "metadata": {},
   "outputs": [],
   "source": []
  }
 ],
 "metadata": {
  "kernelspec": {
   "display_name": "Python 3 (ipykernel)",
   "language": "python",
   "name": "python3"
  },
  "language_info": {
   "codemirror_mode": {
    "name": "ipython",
    "version": 3
   },
   "file_extension": ".py",
   "mimetype": "text/x-python",
   "name": "python",
   "nbconvert_exporter": "python",
   "pygments_lexer": "ipython3",
   "version": "3.13.0"
  }
 },
 "nbformat": 4,
 "nbformat_minor": 5
}
